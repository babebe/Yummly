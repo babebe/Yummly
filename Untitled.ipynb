{
 "cells": [
  {
   "cell_type": "code",
   "execution_count": 1,
   "metadata": {
    "collapsed": true
   },
   "outputs": [],
   "source": [
    "import numpy as np\n",
    "import pandas as pd\n",
    "from pandas import *\n",
    "import csv"
   ]
  },
  {
   "cell_type": "code",
   "execution_count": 44,
   "metadata": {
    "collapsed": false
   },
   "outputs": [],
   "source": [
    "#create a list of csvs\n",
    "files = !ls *.csv\n",
    "#load into a df\n",
    "df_list = [pd.read_csv(file) for file in files]\n"
   ]
  },
  {
   "cell_type": "code",
   "execution_count": 45,
   "metadata": {
    "collapsed": false
   },
   "outputs": [
    {
     "data": {
      "text/plain": [
       "['APP_data_reduced.csv',\n",
       " 'BB_data_reduced.csv',\n",
       " 'DS_data_reduced.csv',\n",
       " 'SLD_data_reduced.csv',\n",
       " 'SP_data_reduced.csv']"
      ]
     },
     "execution_count": 45,
     "metadata": {},
     "output_type": "execute_result"
    }
   ],
   "source": [
    "files"
   ]
  },
  {
   "cell_type": "code",
   "execution_count": 279,
   "metadata": {
    "collapsed": false
   },
   "outputs": [],
   "source": [
    "data = pd.concat(df_list, axis = 0)"
   ]
  },
  {
   "cell_type": "code",
   "execution_count": 280,
   "metadata": {
    "collapsed": false
   },
   "outputs": [
    {
     "name": "stdout",
     "output_type": "stream",
     "text": [
      "(10011, 15)\n"
     ]
    },
    {
     "data": {
      "text/html": [
       "<div>\n",
       "<table border=\"1\" class=\"dataframe\">\n",
       "  <thead>\n",
       "    <tr style=\"text-align: right;\">\n",
       "      <th></th>\n",
       "      <th>id</th>\n",
       "      <th>rating</th>\n",
       "      <th>bitter</th>\n",
       "      <th>meaty</th>\n",
       "      <th>piquant</th>\n",
       "      <th>salty</th>\n",
       "      <th>sour</th>\n",
       "      <th>sweet</th>\n",
       "      <th>cookTimeInSeconds</th>\n",
       "      <th>ingredientCount</th>\n",
       "      <th>numberOfServings</th>\n",
       "      <th>prepTimeInSeconds</th>\n",
       "      <th>totalTimeInSeconds</th>\n",
       "      <th>ingredient_list</th>\n",
       "      <th>course</th>\n",
       "    </tr>\n",
       "  </thead>\n",
       "  <tbody>\n",
       "    <tr>\n",
       "      <th>0</th>\n",
       "      <td>Bacon-Cheddar-Pinwheels-768341</td>\n",
       "      <td>4</td>\n",
       "      <td>0.833333</td>\n",
       "      <td>0.833333</td>\n",
       "      <td>0.000000</td>\n",
       "      <td>0.833333</td>\n",
       "      <td>0.166667</td>\n",
       "      <td>0.166667</td>\n",
       "      <td>NaN</td>\n",
       "      <td>5</td>\n",
       "      <td>16.0</td>\n",
       "      <td>900.0</td>\n",
       "      <td>2100.0</td>\n",
       "      <td>[Pillsbury™ Refrigerated Crescent Dinner Rolls...</td>\n",
       "      <td>Appetizer</td>\n",
       "    </tr>\n",
       "    <tr>\n",
       "      <th>1</th>\n",
       "      <td>Fiesta-Corn-Dip-1711704</td>\n",
       "      <td>4</td>\n",
       "      <td>0.500000</td>\n",
       "      <td>0.166667</td>\n",
       "      <td>0.833333</td>\n",
       "      <td>0.833333</td>\n",
       "      <td>0.500000</td>\n",
       "      <td>0.166667</td>\n",
       "      <td>NaN</td>\n",
       "      <td>7</td>\n",
       "      <td>4.0</td>\n",
       "      <td>900.0</td>\n",
       "      <td>900.0</td>\n",
       "      <td>[sour cream, mayonnaise, ground cumin, mexicor...</td>\n",
       "      <td>Appetizer</td>\n",
       "    </tr>\n",
       "  </tbody>\n",
       "</table>\n",
       "</div>"
      ],
      "text/plain": [
       "                               id  rating    bitter     meaty   piquant  \\\n",
       "0  Bacon-Cheddar-Pinwheels-768341       4  0.833333  0.833333  0.000000   \n",
       "1         Fiesta-Corn-Dip-1711704       4  0.500000  0.166667  0.833333   \n",
       "\n",
       "      salty      sour     sweet  cookTimeInSeconds  ingredientCount  \\\n",
       "0  0.833333  0.166667  0.166667                NaN                5   \n",
       "1  0.833333  0.500000  0.166667                NaN                7   \n",
       "\n",
       "   numberOfServings  prepTimeInSeconds  totalTimeInSeconds  \\\n",
       "0              16.0              900.0              2100.0   \n",
       "1               4.0              900.0               900.0   \n",
       "\n",
       "                                     ingredient_list     course  \n",
       "0  [Pillsbury™ Refrigerated Crescent Dinner Rolls...  Appetizer  \n",
       "1  [sour cream, mayonnaise, ground cumin, mexicor...  Appetizer  "
      ]
     },
     "execution_count": 280,
     "metadata": {},
     "output_type": "execute_result"
    }
   ],
   "source": [
    "print data.shape\n",
    "data.head(2)"
   ]
  },
  {
   "cell_type": "code",
   "execution_count": 281,
   "metadata": {
    "collapsed": false
   },
   "outputs": [],
   "source": [
    "# labelencode the course column\n",
    "from sklearn import preprocessing\n",
    "le = preprocessing.LabelEncoder()\n",
    "data['course_num'] = le.fit_transform(data.course)"
   ]
  },
  {
   "cell_type": "code",
   "execution_count": 282,
   "metadata": {
    "collapsed": false
   },
   "outputs": [],
   "source": [
    "#make all column headers, small cases\n",
    "data.columns = [col.lower() for col in data.columns]"
   ]
  },
  {
   "cell_type": "code",
   "execution_count": 283,
   "metadata": {
    "collapsed": false
   },
   "outputs": [
    {
     "data": {
      "text/plain": [
       "id                       0\n",
       "rating                   0\n",
       "bitter                3242\n",
       "meaty                 3242\n",
       "piquant               3242\n",
       "salty                 3242\n",
       "sour                  3242\n",
       "sweet                 3242\n",
       "cooktimeinseconds     7406\n",
       "ingredientcount          0\n",
       "numberofservings         2\n",
       "preptimeinseconds     6180\n",
       "totaltimeinseconds       0\n",
       "ingredient_list          0\n",
       "course                   0\n",
       "course_num               0\n",
       "dtype: int64"
      ]
     },
     "execution_count": 283,
     "metadata": {},
     "output_type": "execute_result"
    }
   ],
   "source": [
    "data.isnull().sum()"
   ]
  },
  {
   "cell_type": "code",
   "execution_count": 284,
   "metadata": {
    "collapsed": true
   },
   "outputs": [],
   "source": [
    "data = data.drop(['cooktimeinseconds','preptimeinseconds', 'course'], axis = 1)"
   ]
  },
  {
   "cell_type": "code",
   "execution_count": 285,
   "metadata": {
    "collapsed": false
   },
   "outputs": [],
   "source": [
    "# #clean cook/preptime columns\n",
    "# for index, row in data.iterrows():\n",
    "#     if row['cooktimeinseconds'].isnull() and row['preptimeinseconds'].isnull():\n",
    "#         print row\n",
    "    "
   ]
  },
  {
   "cell_type": "code",
   "execution_count": 286,
   "metadata": {
    "collapsed": false
   },
   "outputs": [],
   "source": [
    "# clean the ingredient column \n",
    "import string\n",
    "# strip non ascii characters \n",
    "printable = set(string.printable)\n",
    "ingredient = [filter(lambda x: x in printable, z) for z in data['ingredient_list']]\n"
   ]
  },
  {
   "cell_type": "code",
   "execution_count": 287,
   "metadata": {
    "collapsed": false
   },
   "outputs": [
    {
     "data": {
      "text/plain": [
       "'[Pillsbury Refrigerated Crescent Dinner Rolls, ranch dressing, bacon pieces, shredded cheddar cheese, green onions]'"
      ]
     },
     "execution_count": 287,
     "metadata": {},
     "output_type": "execute_result"
    }
   ],
   "source": [
    "ingredient[0]"
   ]
  },
  {
   "cell_type": "code",
   "execution_count": 288,
   "metadata": {
    "collapsed": false
   },
   "outputs": [],
   "source": [
    "# remove the braquets\n",
    "ingredient = [z[1:-1] for z in ingredient]"
   ]
  },
  {
   "cell_type": "code",
   "execution_count": 289,
   "metadata": {
    "collapsed": false
   },
   "outputs": [
    {
     "data": {
      "text/plain": [
       "'Pillsbury Refrigerated Crescent Dinner Rolls, ranch dressing, bacon pieces, shredded cheddar cheese, green onions'"
      ]
     },
     "execution_count": 289,
     "metadata": {},
     "output_type": "execute_result"
    }
   ],
   "source": [
    "ingredient[0]"
   ]
  },
  {
   "cell_type": "code",
   "execution_count": 290,
   "metadata": {
    "collapsed": false
   },
   "outputs": [],
   "source": [
    "ingredient = [z.split(\" \") for z in ingredient]"
   ]
  },
  {
   "cell_type": "code",
   "execution_count": 291,
   "metadata": {
    "collapsed": false
   },
   "outputs": [
    {
     "data": {
      "text/plain": [
       "['Pillsbury',\n",
       " 'Refrigerated',\n",
       " 'Crescent',\n",
       " 'Dinner',\n",
       " 'Rolls,',\n",
       " 'ranch',\n",
       " 'dressing,',\n",
       " 'bacon',\n",
       " 'pieces,',\n",
       " 'shredded',\n",
       " 'cheddar',\n",
       " 'cheese,',\n",
       " 'green',\n",
       " 'onions']"
      ]
     },
     "execution_count": 291,
     "metadata": {},
     "output_type": "execute_result"
    }
   ],
   "source": [
    "ingredient[0]"
   ]
  },
  {
   "cell_type": "code",
   "execution_count": 292,
   "metadata": {
    "collapsed": false
   },
   "outputs": [],
   "source": [
    "# perform word lemmatization\n",
    "from nltk import stem\n",
    "wordnet_lemm = stem.WordNetLemmatizer()\n",
    "\n",
    "lem_ingredient = [] # create a new list of lemmatized ingredient list for each recipe\n",
    "for ing in ingredient:\n",
    "    lem_ingredient.append([wordnet_lemm.lemmatize(w) for w in ing])\n",
    "    \n",
    "# convert back to a string for vectorization\n",
    "lem_ingredient = [' '.join(z) for z in lem_ingredient]\n",
    "  "
   ]
  },
  {
   "cell_type": "code",
   "execution_count": 293,
   "metadata": {
    "collapsed": false
   },
   "outputs": [
    {
     "data": {
      "text/html": [
       "<div>\n",
       "<table border=\"1\" class=\"dataframe\">\n",
       "  <thead>\n",
       "    <tr style=\"text-align: right;\">\n",
       "      <th></th>\n",
       "      <th>id</th>\n",
       "      <th>rating</th>\n",
       "      <th>bitter</th>\n",
       "      <th>meaty</th>\n",
       "      <th>piquant</th>\n",
       "      <th>salty</th>\n",
       "      <th>sour</th>\n",
       "      <th>sweet</th>\n",
       "      <th>ingredientcount</th>\n",
       "      <th>numberofservings</th>\n",
       "      <th>totaltimeinseconds</th>\n",
       "      <th>course_num</th>\n",
       "      <th>ingredient_lem</th>\n",
       "    </tr>\n",
       "  </thead>\n",
       "  <tbody>\n",
       "    <tr>\n",
       "      <th>0</th>\n",
       "      <td>Bacon-Cheddar-Pinwheels-768341</td>\n",
       "      <td>4</td>\n",
       "      <td>0.833333</td>\n",
       "      <td>0.833333</td>\n",
       "      <td>0.000000</td>\n",
       "      <td>0.833333</td>\n",
       "      <td>0.166667</td>\n",
       "      <td>0.166667</td>\n",
       "      <td>5</td>\n",
       "      <td>16.0</td>\n",
       "      <td>2100.0</td>\n",
       "      <td>0</td>\n",
       "      <td>Pillsbury Refrigerated Crescent Dinner Rolls, ...</td>\n",
       "    </tr>\n",
       "    <tr>\n",
       "      <th>1</th>\n",
       "      <td>Fiesta-Corn-Dip-1711704</td>\n",
       "      <td>4</td>\n",
       "      <td>0.500000</td>\n",
       "      <td>0.166667</td>\n",
       "      <td>0.833333</td>\n",
       "      <td>0.833333</td>\n",
       "      <td>0.500000</td>\n",
       "      <td>0.166667</td>\n",
       "      <td>7</td>\n",
       "      <td>4.0</td>\n",
       "      <td>900.0</td>\n",
       "      <td>0</td>\n",
       "      <td>sour cream, mayonnaise, ground cumin, mexicorn...</td>\n",
       "    </tr>\n",
       "  </tbody>\n",
       "</table>\n",
       "</div>"
      ],
      "text/plain": [
       "                               id  rating    bitter     meaty   piquant  \\\n",
       "0  Bacon-Cheddar-Pinwheels-768341       4  0.833333  0.833333  0.000000   \n",
       "1         Fiesta-Corn-Dip-1711704       4  0.500000  0.166667  0.833333   \n",
       "\n",
       "      salty      sour     sweet  ingredientcount  numberofservings  \\\n",
       "0  0.833333  0.166667  0.166667                5              16.0   \n",
       "1  0.833333  0.500000  0.166667                7               4.0   \n",
       "\n",
       "   totaltimeinseconds  course_num  \\\n",
       "0              2100.0           0   \n",
       "1               900.0           0   \n",
       "\n",
       "                                      ingredient_lem  \n",
       "0  Pillsbury Refrigerated Crescent Dinner Rolls, ...  \n",
       "1  sour cream, mayonnaise, ground cumin, mexicorn...  "
      ]
     },
     "execution_count": 293,
     "metadata": {},
     "output_type": "execute_result"
    }
   ],
   "source": [
    "data['ingredient_lem'] = lem_ingredient\n",
    "data = data.drop('ingredient_list', axis = 1)\n",
    "data.head(2)"
   ]
  },
  {
   "cell_type": "code",
   "execution_count": 294,
   "metadata": {
    "collapsed": false
   },
   "outputs": [],
   "source": [
    "# Vectorize\n",
    "from sklearn.feature_extraction.text import TfidfVectorizer\n",
    "vect = TfidfVectorizer()\n",
    "# Assign 'ingredient string' column to 'corpus' variable\n",
    "# corpus = data['ingredient_lem']\n",
    "# fit\n",
    "# dense = vect.fit_transform(corpus).todense()"
   ]
  },
  {
   "cell_type": "code",
   "execution_count": 301,
   "metadata": {
    "collapsed": false
   },
   "outputs": [
    {
     "name": "stdout",
     "output_type": "stream",
     "text": [
      "(10011, 11)\n",
      "(10011,)\n",
      "(8008, 11)\n",
      "(8008,)\n"
     ]
    }
   ],
   "source": [
    "#array = data.values\n",
    "# create a validation set\n",
    "from sklearn import cross_validation\n",
    "\n",
    "validation_size = 0.20\n",
    "X = data[['rating', 'bitter', 'meaty', 'piquant', 'salty', 'sour', 'sweet', 'ingredientcount', 'numberofservings', \n",
    "        'totaltimeinseconds', 'ingredient_lem']]\n",
    "print X.shape\n",
    "Y = data['course_num']\n",
    "print Y.shape\n",
    "X_train, X_validation, Y_train, Y_validation = cross_validation.train_test_split(X, Y, test_size = validation_size, random_state=10)\n",
    "print X_train.shape\n",
    "print Y_train.shape"
   ]
  },
  {
   "cell_type": "code",
   "execution_count": null,
   "metadata": {
    "collapsed": true
   },
   "outputs": [],
   "source": []
  }
 ],
 "metadata": {
  "kernelspec": {
   "display_name": "Python 2",
   "language": "python",
   "name": "python2"
  },
  "language_info": {
   "codemirror_mode": {
    "name": "ipython",
    "version": 2
   },
   "file_extension": ".py",
   "mimetype": "text/x-python",
   "name": "python",
   "nbconvert_exporter": "python",
   "pygments_lexer": "ipython2",
   "version": "2.7.11"
  }
 },
 "nbformat": 4,
 "nbformat_minor": 0
}

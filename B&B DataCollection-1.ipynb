{
 "cells": [
  {
   "cell_type": "code",
   "execution_count": 258,
   "metadata": {
    "collapsed": true
   },
   "outputs": [],
   "source": [
    "from yummly import Client\n",
    "import json\n",
    "import requests\n",
    "import pandas as pd\n",
    "import numpy as np \n",
    "import re"
   ]
  },
  {
   "cell_type": "code",
   "execution_count": 259,
   "metadata": {
    "collapsed": false,
    "scrolled": true
   },
   "outputs": [],
   "source": [
    "# API call for the first 500 BB recipes labeled as such only!\n",
    "header= {'X-Yummly-App-ID':'79663a75', 'X-Yummly-App-Key':'02b233108f476f3110e0f65437c4d6dd'}\n",
    "url='http://api.yummly.com/v1/api/recipes?'\n",
    "parameters={\n",
    "            'allowedCourse[]':'course^course-Breakfast and Brunch',\n",
    "            'excludedCourse[]': ['course^course-Main Dishes','course^course-Appetizers', 'course^course-Salads', 'course^course-Lunch',\n",
    "                                'course^course-Side Dishes','course^course-Desserts','course^course-Breads',\n",
    "                                 'course^course-Soups', 'course^course-Beverages', 'course^course-Condiments and Sauces',\n",
    "                                'course^course-Cocktails', 'course^course-Snacks'],\n",
    "            'maxResult': 500,\n",
    "            'start': 0\n",
    "            }\n",
    "\n",
    "response=requests.get(url, headers = header, params = parameters)"
   ]
  },
  {
   "cell_type": "code",
   "execution_count": 260,
   "metadata": {
    "collapsed": false
   },
   "outputs": [
    {
     "data": {
      "text/plain": [
       "200"
      ]
     },
     "execution_count": 260,
     "metadata": {},
     "output_type": "execute_result"
    }
   ],
   "source": [
    "response.status_code"
   ]
  },
  {
   "cell_type": "code",
   "execution_count": 261,
   "metadata": {
    "collapsed": false
   },
   "outputs": [
    {
     "name": "stdout",
     "output_type": "stream",
     "text": [
      "<type 'dict'>\n",
      "[u'matches', u'totalMatchCount', u'attribution', u'facetCounts', u'criteria']\n"
     ]
    }
   ],
   "source": [
    "BB=response.json()\n",
    "print type(BB)\n",
    "print BB.keys()"
   ]
  },
  {
   "cell_type": "code",
   "execution_count": 262,
   "metadata": {
    "collapsed": false
   },
   "outputs": [
    {
     "name": "stdout",
     "output_type": "stream",
     "text": [
      "500\n",
      "<type 'list'>\n",
      "[u'flavors', u'rating', u'totalTimeInSeconds', u'ingredients', u'smallImageUrls', u'sourceDisplayName', u'recipeName', u'attributes', u'id', u'imageUrlsBySize']\n"
     ]
    }
   ],
   "source": [
    "#only interrested in the information under matches. \n",
    "print len(BB['matches'])\n",
    "print type(BB['matches'])\n",
    "print BB['matches'][0].keys()"
   ]
  },
  {
   "cell_type": "code",
   "execution_count": 263,
   "metadata": {
    "collapsed": false
   },
   "outputs": [
    {
     "data": {
      "text/plain": [
       "{u'attributes': {u'course': [u'Breakfast and Brunch']},\n",
       " u'flavors': {u'bitter': 0.6666666666666666,\n",
       "  u'meaty': 0.3333333333333333,\n",
       "  u'piquant': 0.0,\n",
       "  u'salty': 0.8333333333333334,\n",
       "  u'sour': 0.16666666666666666,\n",
       "  u'sweet': 0.16666666666666666},\n",
       " u'id': u'Baked-French-Toast-Casserole-1636754',\n",
       " u'imageUrlsBySize': {u'90': u'https://lh3.googleusercontent.com/pSQ8-zmDr_c5asdCRjpX_9wCp5TWzzsKu25wNyJHeJNezAGS8_0xqxOmVaD1k2iH8RPYrbjFxqRQ3kPh6N7O=s90-c'},\n",
       " u'ingredients': [u'french bread',\n",
       "  u'eggs',\n",
       "  u'milk',\n",
       "  u'vanilla',\n",
       "  u'salt',\n",
       "  u'unsalted butter'],\n",
       " u'rating': 4,\n",
       " u'recipeName': u'Baked French Toast Casserole',\n",
       " u'smallImageUrls': [u'https://lh3.googleusercontent.com/mUYnOpHQhuIZFNCXgvgbPp0LU9phviIqIHa3FEHgVR8HIea86HsQiXxlKln5arT_ppDpPOXIzNDdo1n-qS11=s90'],\n",
       " u'sourceDisplayName': u'Life Currents',\n",
       " u'totalTimeInSeconds': 3600}"
      ]
     },
     "execution_count": 263,
     "metadata": {},
     "output_type": "execute_result"
    }
   ],
   "source": [
    "#checkout one recipe\n",
    "BB_matches=BB['matches']\n",
    "BB_matches[499]"
   ]
  },
  {
   "cell_type": "code",
   "execution_count": 264,
   "metadata": {
    "collapsed": false
   },
   "outputs": [],
   "source": [
    "#forming lists to create dataframes of the features we want. \n",
    "main_list = []\n",
    "ingredients_list = []\n",
    "attributes_list = []\n",
    "flavors_list = []\n",
    "\n",
    "for food in BB_matches:\n",
    "\n",
    "    _d1 = {}\n",
    "    _d1['id'] = food['id']\n",
    "    _d1['rating'] = food['rating']\n",
    "    _d1['recipeName'] = food['recipeName']\n",
    "    _d1['sourceDisplayName'] = food['sourceDisplayName']\n",
    "    \n",
    "    main_list.append(_d1)\n",
    "    \n",
    "    _d2 = {}\n",
    "    _d2['id'] =food['id']\n",
    "    for i in food['ingredients']:\n",
    "        i = i.lower() # additional code to conver to lowercase\n",
    "        i = re.sub(r'\\d+%\\s', '', i) # additional code to remove 1%, 2%, etc\n",
    "        i = re.sub(r'\\xae', '', i) # remove '\\xae' characters\n",
    "        _d2[i] = 1\n",
    "    ingredients_list.append(_d2)\n",
    "\n",
    "    _d3 = {}\n",
    "    _d3['id'] = food['id']\n",
    "    for k, v in food['attributes'].items():\n",
    "        for i in v:\n",
    "            _d3[i] = 1\n",
    "    attributes_list.append(_d3)\n",
    " "
   ]
  },
  {
   "cell_type": "code",
   "execution_count": 265,
   "metadata": {
    "collapsed": false
   },
   "outputs": [],
   "source": [
    "flavors_dict = {}\n",
    "\n",
    "for food in BB_matches:\n",
    "    flavors_dict[food.get('id')] = food.get('flavors')"
   ]
  },
  {
   "cell_type": "code",
   "execution_count": 267,
   "metadata": {
    "collapsed": false
   },
   "outputs": [
    {
     "ename": "IOError",
     "evalue": "File course_headers.csv does not exist",
     "output_type": "error",
     "traceback": [
      "\u001b[0;31m---------------------------------------------------------------------------\u001b[0m",
      "\u001b[0;31mIOError\u001b[0m                                   Traceback (most recent call last)",
      "\u001b[0;32m<ipython-input-267-6c7636c12546>\u001b[0m in \u001b[0;36m<module>\u001b[0;34m()\u001b[0m\n\u001b[1;32m      1\u001b[0m \u001b[0;31m# read in dictionary for course and cuisine and create list of possible values for each\u001b[0m\u001b[0;34m\u001b[0m\u001b[0;34m\u001b[0m\u001b[0m\n\u001b[0;32m----> 2\u001b[0;31m \u001b[0mcourse_df\u001b[0m \u001b[0;34m=\u001b[0m \u001b[0mpd\u001b[0m\u001b[0;34m.\u001b[0m\u001b[0mread_csv\u001b[0m\u001b[0;34m(\u001b[0m\u001b[0;34m'course_headers.csv'\u001b[0m\u001b[0;34m,\u001b[0m \u001b[0mnames\u001b[0m\u001b[0;34m=\u001b[0m\u001b[0;34m[\u001b[0m\u001b[0;34m'course'\u001b[0m\u001b[0;34m]\u001b[0m\u001b[0;34m)\u001b[0m\u001b[0;34m\u001b[0m\u001b[0m\n\u001b[0m\u001b[1;32m      3\u001b[0m \u001b[0mcuisine_df\u001b[0m \u001b[0;34m=\u001b[0m \u001b[0mpd\u001b[0m\u001b[0;34m.\u001b[0m\u001b[0mread_csv\u001b[0m\u001b[0;34m(\u001b[0m\u001b[0;34m'cuisine_headers.csv'\u001b[0m\u001b[0;34m,\u001b[0m \u001b[0mnames\u001b[0m\u001b[0;34m=\u001b[0m\u001b[0;34m[\u001b[0m\u001b[0;34m'cuisine'\u001b[0m\u001b[0;34m]\u001b[0m\u001b[0;34m)\u001b[0m\u001b[0;34m\u001b[0m\u001b[0m\n\u001b[1;32m      4\u001b[0m \u001b[0;34m\u001b[0m\u001b[0m\n\u001b[1;32m      5\u001b[0m \u001b[0mcourse_list\u001b[0m \u001b[0;34m=\u001b[0m \u001b[0mcourse_df\u001b[0m\u001b[0;34m.\u001b[0m\u001b[0mcourse\u001b[0m\u001b[0;34m\u001b[0m\u001b[0m\n",
      "\u001b[0;32m//anaconda/lib/python2.7/site-packages/pandas/io/parsers.pyc\u001b[0m in \u001b[0;36mparser_f\u001b[0;34m(filepath_or_buffer, sep, delimiter, header, names, index_col, usecols, squeeze, prefix, mangle_dupe_cols, dtype, engine, converters, true_values, false_values, skipinitialspace, skiprows, skipfooter, nrows, na_values, keep_default_na, na_filter, verbose, skip_blank_lines, parse_dates, infer_datetime_format, keep_date_col, date_parser, dayfirst, iterator, chunksize, compression, thousands, decimal, lineterminator, quotechar, quoting, escapechar, comment, encoding, dialect, tupleize_cols, error_bad_lines, warn_bad_lines, skip_footer, doublequote, delim_whitespace, as_recarray, compact_ints, use_unsigned, low_memory, buffer_lines, memory_map, float_precision)\u001b[0m\n\u001b[1;32m    527\u001b[0m                     skip_blank_lines=skip_blank_lines)\n\u001b[1;32m    528\u001b[0m \u001b[0;34m\u001b[0m\u001b[0m\n\u001b[0;32m--> 529\u001b[0;31m         \u001b[0;32mreturn\u001b[0m \u001b[0m_read\u001b[0m\u001b[0;34m(\u001b[0m\u001b[0mfilepath_or_buffer\u001b[0m\u001b[0;34m,\u001b[0m \u001b[0mkwds\u001b[0m\u001b[0;34m)\u001b[0m\u001b[0;34m\u001b[0m\u001b[0m\n\u001b[0m\u001b[1;32m    530\u001b[0m \u001b[0;34m\u001b[0m\u001b[0m\n\u001b[1;32m    531\u001b[0m     \u001b[0mparser_f\u001b[0m\u001b[0;34m.\u001b[0m\u001b[0m__name__\u001b[0m \u001b[0;34m=\u001b[0m \u001b[0mname\u001b[0m\u001b[0;34m\u001b[0m\u001b[0m\n",
      "\u001b[0;32m//anaconda/lib/python2.7/site-packages/pandas/io/parsers.pyc\u001b[0m in \u001b[0;36m_read\u001b[0;34m(filepath_or_buffer, kwds)\u001b[0m\n\u001b[1;32m    293\u001b[0m \u001b[0;34m\u001b[0m\u001b[0m\n\u001b[1;32m    294\u001b[0m     \u001b[0;31m# Create the parser.\u001b[0m\u001b[0;34m\u001b[0m\u001b[0;34m\u001b[0m\u001b[0m\n\u001b[0;32m--> 295\u001b[0;31m     \u001b[0mparser\u001b[0m \u001b[0;34m=\u001b[0m \u001b[0mTextFileReader\u001b[0m\u001b[0;34m(\u001b[0m\u001b[0mfilepath_or_buffer\u001b[0m\u001b[0;34m,\u001b[0m \u001b[0;34m**\u001b[0m\u001b[0mkwds\u001b[0m\u001b[0;34m)\u001b[0m\u001b[0;34m\u001b[0m\u001b[0m\n\u001b[0m\u001b[1;32m    296\u001b[0m \u001b[0;34m\u001b[0m\u001b[0m\n\u001b[1;32m    297\u001b[0m     \u001b[0;32mif\u001b[0m \u001b[0;34m(\u001b[0m\u001b[0mnrows\u001b[0m \u001b[0;32mis\u001b[0m \u001b[0;32mnot\u001b[0m \u001b[0mNone\u001b[0m\u001b[0;34m)\u001b[0m \u001b[0;32mand\u001b[0m \u001b[0;34m(\u001b[0m\u001b[0mchunksize\u001b[0m \u001b[0;32mis\u001b[0m \u001b[0;32mnot\u001b[0m \u001b[0mNone\u001b[0m\u001b[0;34m)\u001b[0m\u001b[0;34m:\u001b[0m\u001b[0;34m\u001b[0m\u001b[0m\n",
      "\u001b[0;32m//anaconda/lib/python2.7/site-packages/pandas/io/parsers.pyc\u001b[0m in \u001b[0;36m__init__\u001b[0;34m(self, f, engine, **kwds)\u001b[0m\n\u001b[1;32m    610\u001b[0m             \u001b[0mself\u001b[0m\u001b[0;34m.\u001b[0m\u001b[0moptions\u001b[0m\u001b[0;34m[\u001b[0m\u001b[0;34m'has_index_names'\u001b[0m\u001b[0;34m]\u001b[0m \u001b[0;34m=\u001b[0m \u001b[0mkwds\u001b[0m\u001b[0;34m[\u001b[0m\u001b[0;34m'has_index_names'\u001b[0m\u001b[0;34m]\u001b[0m\u001b[0;34m\u001b[0m\u001b[0m\n\u001b[1;32m    611\u001b[0m \u001b[0;34m\u001b[0m\u001b[0m\n\u001b[0;32m--> 612\u001b[0;31m         \u001b[0mself\u001b[0m\u001b[0;34m.\u001b[0m\u001b[0m_make_engine\u001b[0m\u001b[0;34m(\u001b[0m\u001b[0mself\u001b[0m\u001b[0;34m.\u001b[0m\u001b[0mengine\u001b[0m\u001b[0;34m)\u001b[0m\u001b[0;34m\u001b[0m\u001b[0m\n\u001b[0m\u001b[1;32m    613\u001b[0m \u001b[0;34m\u001b[0m\u001b[0m\n\u001b[1;32m    614\u001b[0m     \u001b[0;32mdef\u001b[0m \u001b[0m_get_options_with_defaults\u001b[0m\u001b[0;34m(\u001b[0m\u001b[0mself\u001b[0m\u001b[0;34m,\u001b[0m \u001b[0mengine\u001b[0m\u001b[0;34m)\u001b[0m\u001b[0;34m:\u001b[0m\u001b[0;34m\u001b[0m\u001b[0m\n",
      "\u001b[0;32m//anaconda/lib/python2.7/site-packages/pandas/io/parsers.pyc\u001b[0m in \u001b[0;36m_make_engine\u001b[0;34m(self, engine)\u001b[0m\n\u001b[1;32m    745\u001b[0m     \u001b[0;32mdef\u001b[0m \u001b[0m_make_engine\u001b[0m\u001b[0;34m(\u001b[0m\u001b[0mself\u001b[0m\u001b[0;34m,\u001b[0m \u001b[0mengine\u001b[0m\u001b[0;34m=\u001b[0m\u001b[0;34m'c'\u001b[0m\u001b[0;34m)\u001b[0m\u001b[0;34m:\u001b[0m\u001b[0;34m\u001b[0m\u001b[0m\n\u001b[1;32m    746\u001b[0m         \u001b[0;32mif\u001b[0m \u001b[0mengine\u001b[0m \u001b[0;34m==\u001b[0m \u001b[0;34m'c'\u001b[0m\u001b[0;34m:\u001b[0m\u001b[0;34m\u001b[0m\u001b[0m\n\u001b[0;32m--> 747\u001b[0;31m             \u001b[0mself\u001b[0m\u001b[0;34m.\u001b[0m\u001b[0m_engine\u001b[0m \u001b[0;34m=\u001b[0m \u001b[0mCParserWrapper\u001b[0m\u001b[0;34m(\u001b[0m\u001b[0mself\u001b[0m\u001b[0;34m.\u001b[0m\u001b[0mf\u001b[0m\u001b[0;34m,\u001b[0m \u001b[0;34m**\u001b[0m\u001b[0mself\u001b[0m\u001b[0;34m.\u001b[0m\u001b[0moptions\u001b[0m\u001b[0;34m)\u001b[0m\u001b[0;34m\u001b[0m\u001b[0m\n\u001b[0m\u001b[1;32m    748\u001b[0m         \u001b[0;32melse\u001b[0m\u001b[0;34m:\u001b[0m\u001b[0;34m\u001b[0m\u001b[0m\n\u001b[1;32m    749\u001b[0m             \u001b[0;32mif\u001b[0m \u001b[0mengine\u001b[0m \u001b[0;34m==\u001b[0m \u001b[0;34m'python'\u001b[0m\u001b[0;34m:\u001b[0m\u001b[0;34m\u001b[0m\u001b[0m\n",
      "\u001b[0;32m//anaconda/lib/python2.7/site-packages/pandas/io/parsers.pyc\u001b[0m in \u001b[0;36m__init__\u001b[0;34m(self, src, **kwds)\u001b[0m\n\u001b[1;32m   1117\u001b[0m         \u001b[0mkwds\u001b[0m\u001b[0;34m[\u001b[0m\u001b[0;34m'allow_leading_cols'\u001b[0m\u001b[0;34m]\u001b[0m \u001b[0;34m=\u001b[0m \u001b[0mself\u001b[0m\u001b[0;34m.\u001b[0m\u001b[0mindex_col\u001b[0m \u001b[0;32mis\u001b[0m \u001b[0;32mnot\u001b[0m \u001b[0mFalse\u001b[0m\u001b[0;34m\u001b[0m\u001b[0m\n\u001b[1;32m   1118\u001b[0m \u001b[0;34m\u001b[0m\u001b[0m\n\u001b[0;32m-> 1119\u001b[0;31m         \u001b[0mself\u001b[0m\u001b[0;34m.\u001b[0m\u001b[0m_reader\u001b[0m \u001b[0;34m=\u001b[0m \u001b[0m_parser\u001b[0m\u001b[0;34m.\u001b[0m\u001b[0mTextReader\u001b[0m\u001b[0;34m(\u001b[0m\u001b[0msrc\u001b[0m\u001b[0;34m,\u001b[0m \u001b[0;34m**\u001b[0m\u001b[0mkwds\u001b[0m\u001b[0;34m)\u001b[0m\u001b[0;34m\u001b[0m\u001b[0m\n\u001b[0m\u001b[1;32m   1120\u001b[0m \u001b[0;34m\u001b[0m\u001b[0m\n\u001b[1;32m   1121\u001b[0m         \u001b[0;31m# XXX\u001b[0m\u001b[0;34m\u001b[0m\u001b[0;34m\u001b[0m\u001b[0m\n",
      "\u001b[0;32mpandas/parser.pyx\u001b[0m in \u001b[0;36mpandas.parser.TextReader.__cinit__ (pandas/parser.c:3246)\u001b[0;34m()\u001b[0m\n",
      "\u001b[0;32mpandas/parser.pyx\u001b[0m in \u001b[0;36mpandas.parser.TextReader._setup_parser_source (pandas/parser.c:6111)\u001b[0;34m()\u001b[0m\n",
      "\u001b[0;31mIOError\u001b[0m: File course_headers.csv does not exist"
     ]
    }
   ],
   "source": [
    "# read in dictionary for course and cuisine and create list of possible values for each\n",
    "course_df = pd.read_csv('course_headers.csv', names=['course'])\n",
    "cuisine_df = pd.read_csv('cuisine_headers.csv', names=['cuisine'])\n",
    "\n",
    "course_list = course_df.course\n",
    "cuisine_list= cuisine_df.cuisine\n"
   ]
  },
  {
   "cell_type": "code",
   "execution_count": 206,
   "metadata": {
    "collapsed": true
   },
   "outputs": [],
   "source": [
    "#create dictionary of cuisine and course for each recipe\n",
    "course_dict={}\n",
    "cuisine_dict={}\n",
    "for food in BB_matches:\n",
    "    course_dict[food.get('id')]= food['attributes'].get('course')\n",
    "    cuisine_dict[food.get('id')]= food['attributes'].get('cuisine')\n",
    "    \n",
    "_courses= {}\n",
    "\n",
    "for k, v in course_dict.iteritems():\n",
    "    course_val = {}\n",
    "    for course in course_list:\n",
    "        try:\n",
    "            if course in v :\n",
    "                course_val[course] = 1\n",
    "            else:\n",
    "                course_val[course] = 0\n",
    "        except TypeError:\n",
    "            course_val[course] = 0\n",
    "    \n",
    "        _courses[k] = course_val\n",
    "        \n",
    "_cuisines= {}       \n",
    "\n",
    "for k, v in cuisine_dict.iteritems():\n",
    "    cuisine_val = {}\n",
    "    for course in cuisine_list:\n",
    "        try:\n",
    "            if course in v :\n",
    "                cuisine_val[course] = 1\n",
    "            else:\n",
    "                cuisine_val[course] = 0\n",
    "        except TypeError:\n",
    "            cuisine_val[course] = 0\n",
    "    \n",
    "        _cuisines[k] = cuisine_val\n"
   ]
  },
  {
   "cell_type": "code",
   "execution_count": 207,
   "metadata": {
    "collapsed": true
   },
   "outputs": [],
   "source": [
    "#get list of recipe ids\n",
    "recipe_ids=[]\n",
    "for recipe in BB_matches:\n",
    "    recipe_ids.append(recipe['id'])"
   ]
  },
  {
   "cell_type": "code",
   "execution_count": 208,
   "metadata": {
    "collapsed": true
   },
   "outputs": [],
   "source": [
    "# second api call to get other features for each recipe\n",
    "key_id= '_app_id=79663a75&_app_key=02b233108f476f3110e0f65437c4d6dd'\n",
    "url='http://api.yummly.com/v1/api/recipe/'"
   ]
  },
  {
   "cell_type": "code",
   "execution_count": 209,
   "metadata": {
    "collapsed": false
   },
   "outputs": [],
   "source": [
    "# retrieve other features for all recipes\n",
    "\n",
    "def get_recipe(_id):\n",
    "    response = requests.get(url + _id + '?' + key_id)\n",
    "    return response.json()\n",
    "\n",
    "recipes=[]\n",
    "for _id in recipe_ids :\n",
    "    recipes.append(get_recipe(_id))"
   ]
  },
  {
   "cell_type": "code",
   "execution_count": 210,
   "metadata": {
    "collapsed": false
   },
   "outputs": [
    {
     "data": {
      "text/plain": [
       "200"
      ]
     },
     "execution_count": 210,
     "metadata": {},
     "output_type": "execute_result"
    }
   ],
   "source": [
    "response.status_code"
   ]
  },
  {
   "cell_type": "code",
   "execution_count": 211,
   "metadata": {
    "collapsed": false
   },
   "outputs": [
    {
     "name": "stdout",
     "output_type": "stream",
     "text": [
      "500\n",
      "[u'totalTime', u'ingredientLines', u'attribution', u'name', u'rating', u'numberOfServings', u'yield', u'nutritionEstimates', u'source', u'flavors', u'images', u'attributes', u'id', u'totalTimeInSeconds']\n"
     ]
    }
   ],
   "source": [
    "print len(recipes)\n",
    "print recipes[1].keys()"
   ]
  },
  {
   "cell_type": "code",
   "execution_count": 212,
   "metadata": {
    "collapsed": true
   },
   "outputs": [],
   "source": [
    "#for each recipe create a new dictionary of selected attributes and append into a list\n",
    "\n",
    "recipe_details=[]\n",
    "for recipe in recipes:\n",
    "    _dict={}\n",
    "    #import pdb; pdb.set_trace()\n",
    "    _dict['id']=recipe['id']\n",
    "    _dict['ingredientCount']= len(recipe['ingredientLines'])\n",
    "    _dict['numberOfServings']= recipe['numberOfServings']\n",
    "    if 'prepTimeInSeconds' in recipe.keys():\n",
    "        _dict['prepTimeInSeconds']= recipe['prepTimeInSeconds']\n",
    "    else:\n",
    "        _dict['prepTimeInSeconds']= None\n",
    "    if 'cookTimeInSeconds' in recipe.keys():\n",
    "        _dict['cookTimeInSeconds']= recipe['cookTimeInSeconds']\n",
    "    else:\n",
    "        _dict['cookTimeInSeconds']= None\n",
    "    _dict['totalTimeInSeconds']=recipe['totalTimeInSeconds']\n",
    "    \n",
    "    \n",
    "    recipe_details.append(_dict)\n",
    "        "
   ]
  },
  {
   "cell_type": "code",
   "execution_count": 256,
   "metadata": {
    "collapsed": false
   },
   "outputs": [],
   "source": [
    "#create dataframes, arrange column index and save into csv\n",
    "df_main = pd.DataFrame(main_list)\n",
    "df_main.to_csv('BB_main.csv', encoding ='utf-8')\n",
    "\n",
    "df_ingredients = pd.DataFrame(ingredients_list)\n",
    "df_ingredients = df_ingredients.fillna(0)\n",
    "cols = list(df_ingredients)\n",
    "cols.insert(0, cols.pop(cols.index('id')))\n",
    "df_ingredients= df_ingredients.ix[:,cols]\n",
    "df_ingredients.to_csv('BB_ingredients.csv', encoding ='utf-8')\n",
    "\n",
    "df_attributes = pd.DataFrame(attributes_list)\n",
    "df_attributes = df_attributes.fillna(0)\n",
    "cols = list(df_attributes)\n",
    "cols.insert(0, cols.pop(cols.index('id')))\n",
    "df_attributes = df_attributes.ix[:,cols]\n",
    "df_attributes.to_csv('BB_attributes.csv')\n",
    "\n",
    "df_flavors = pd.DataFrame(flavors_dict).transpose()\n",
    "df_flavors.reset_index(level=0, inplace=True)\n",
    "df_flavors.to_csv('BB_flavors.csv')\n",
    "\n",
    "df_courses = pd.DataFrame(_courses).transpose()\n",
    "df_courses.reset_index(level=0, inplace=True)\n",
    "df_courses.to_csv('BB_courses.csv')\n",
    "\n",
    "df_cuisines = pd.DataFrame(_cuisines).transpose()\n",
    "df_cuisines.reset_index(level=0, inplace=True)\n",
    "df_cuisines.to_csv('BB_cuisines.csv')\n",
    "\n",
    "df_details=pd.DataFrame(recipe_details)\n",
    "cols = list(df_details)\n",
    "cols.insert(0, cols.pop(cols.index('id')))\n",
    "df_details=df_details.ix[:,cols]\n",
    "df_details.to_csv('BB_details.csv')"
   ]
  },
  {
   "cell_type": "code",
   "execution_count": 235,
   "metadata": {
    "collapsed": false
   },
   "outputs": [],
   "source": [
    "ingredients = df_ingredients.sum(axis=0).sort_values(ascending=False)\n"
   ]
  },
  {
   "cell_type": "code",
   "execution_count": 243,
   "metadata": {
    "collapsed": false
   },
   "outputs": [],
   "source": [
    "top_ingredients = ingredients[:40]"
   ]
  },
  {
   "cell_type": "code",
   "execution_count": 244,
   "metadata": {
    "collapsed": false
   },
   "outputs": [
    {
     "data": {
      "text/plain": [
       "pandas.core.series.Series"
      ]
     },
     "execution_count": 244,
     "metadata": {},
     "output_type": "execute_result"
    }
   ],
   "source": [
    "type(top_ingredients)"
   ]
  },
  {
   "cell_type": "code",
   "execution_count": 245,
   "metadata": {
    "collapsed": true
   },
   "outputs": [],
   "source": [
    "top_ingredients.to_csv('top_ing.csv')"
   ]
  },
  {
   "cell_type": "code",
   "execution_count": 257,
   "metadata": {
    "collapsed": false
   },
   "outputs": [
    {
     "data": {
      "text/plain": [
       "Index([                                                            u'id',\n",
       "                                                  u'2% reduced-fat milk',\n",
       "                                                       u'Chobani Yogurt',\n",
       "                                                        u'Crunch Cereal',\n",
       "                                                      u'English muffins',\n",
       "                                                       u'Himalayan salt',\n",
       "                  u'Honeysuckle White® Turkey Breakfast Sausage Patties',\n",
       "                                                            u'Jarlsberg',\n",
       "       u'KRAFT Shredded Pepper Jack Cheese with a TOUCH OF PHILADELPHIA',\n",
       "                                  u'KRAFT Shredded Sharp Cheddar Cheese',\n",
       "       ...\n",
       "                                                    u'whole wheat flour',\n",
       "                                             u'whole wheat pastry flour',\n",
       "                                                u'whole wheat tortillas',\n",
       "                                              u'whole wheat white flour',\n",
       "                                                            u'wild rice',\n",
       "                                                      u'yellow cornmeal',\n",
       "                                                         u'yellow onion',\n",
       "                                                        u'yellow squash',\n",
       "                                                              u'yoghurt',\n",
       "                                                             u'zucchini'],\n",
       "      dtype='object', length=768)"
      ]
     },
     "execution_count": 257,
     "metadata": {},
     "output_type": "execute_result"
    }
   ],
   "source": [
    "df_ingredients.columns"
   ]
  },
  {
   "cell_type": "code",
   "execution_count": null,
   "metadata": {
    "collapsed": true
   },
   "outputs": [],
   "source": []
  }
 ],
 "metadata": {
  "kernelspec": {
   "display_name": "Python 2",
   "language": "python",
   "name": "python2"
  },
  "language_info": {
   "codemirror_mode": {
    "name": "ipython",
    "version": 2
   },
   "file_extension": ".py",
   "mimetype": "text/x-python",
   "name": "python",
   "nbconvert_exporter": "python",
   "pygments_lexer": "ipython2",
   "version": "2.7.11"
  }
 },
 "nbformat": 4,
 "nbformat_minor": 0
}
